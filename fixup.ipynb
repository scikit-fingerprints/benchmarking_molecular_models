{
 "cells": [
  {
   "cell_type": "markdown",
   "id": "41897371",
   "metadata": {},
   "source": [
    "# Hugging molecules"
   ]
  },
  {
   "cell_type": "code",
   "execution_count": 1,
   "id": "4cd34f3f",
   "metadata": {},
   "outputs": [
    {
     "data": {
      "text/plain": [
       "['mat_masking_200k',\n",
       " 'mat_masking_2M',\n",
       " 'mat_masking_20M',\n",
       " 'grover_base',\n",
       " 'grover_large',\n",
       " 'rmat_4M']"
      ]
     },
     "execution_count": 1,
     "metadata": {},
     "output_type": "execute_result"
    }
   ],
   "source": [
    "models = \"mat_masking_200k,mat_masking_2M,mat_masking_20M,grover_base,grover_large,rmat_4M\".split(',')\n",
    "models"
   ]
  },
  {
   "cell_type": "code",
   "execution_count": 3,
   "id": "7ed42484",
   "metadata": {},
   "outputs": [],
   "source": [
    "import shutil\n",
    "import os\n",
    "import joblib"
   ]
  },
  {
   "cell_type": "code",
   "execution_count": 5,
   "id": "bb446aaf",
   "metadata": {},
   "outputs": [
    {
     "name": "stderr",
     "output_type": "stream",
     "text": [
      "WARNING:root:Found 16 invalid samples in the dataset 'ogbg-molhiv'.\n"
     ]
    },
    {
     "name": "stdout",
     "output_type": "stream",
     "text": [
      "Processing mat_masking_200k\n",
      "Shape of X: (41084, 1024)\n",
      "mat_masking_200k - broken molecules 16\n"
     ]
    },
    {
     "name": "stderr",
     "output_type": "stream",
     "text": [
      "WARNING:root:Found 16 invalid samples in the dataset 'ogbg-molhiv'.\n"
     ]
    },
    {
     "name": "stdout",
     "output_type": "stream",
     "text": [
      "Processing mat_masking_2M\n",
      "Shape of X: (41084, 1024)\n",
      "mat_masking_2M - broken molecules 16\n"
     ]
    },
    {
     "name": "stderr",
     "output_type": "stream",
     "text": [
      "WARNING:root:Found 16 invalid samples in the dataset 'ogbg-molhiv'.\n"
     ]
    },
    {
     "name": "stdout",
     "output_type": "stream",
     "text": [
      "Processing mat_masking_20M\n",
      "Shape of X: (41084, 1024)\n",
      "mat_masking_20M - broken molecules 16\n",
      "Processing grover_base\n",
      "Shape of X: (41127, 1600)\n",
      "grover_base - broken molecules 0\n",
      "Processing grover_large\n",
      "Shape of X: (41127, 2400)\n",
      "grover_large - broken molecules 0\n",
      "Processing rmat_4M\n"
     ]
    },
    {
     "name": "stderr",
     "output_type": "stream",
     "text": [
      "WARNING:root:Found 16 invalid samples in the dataset 'ogbg-molhiv'.\n"
     ]
    },
    {
     "name": "stdout",
     "output_type": "stream",
     "text": [
      "Shape of X: (41084, 3072)\n",
      "rmat_4M - broken molecules 16\n"
     ]
    }
   ],
   "source": [
    "for model in models:\n",
    "    print(f\"Processing {model}\")\n",
    "    path = f'data/embedded/ogbg-molhiv/{model}.joblib'\n",
    "    new_path = f'data/embedded/ogbg-molhiv/broken_{model}.joblib'\n",
    "    if os.path.exists(path):\n",
    "        shutil.move(path, new_path)\n",
    "    d = joblib.load(new_path)\n",
    "    d.X = d.X.numpy()\n",
    "    broken_molecules = d.remove_failed_embeddings()\n",
    "    print(f\"{model} - broken molecules {broken_molecules}\")\n",
    "    joblib.dump(d, path)"
   ]
  },
  {
   "cell_type": "code",
   "execution_count": 12,
   "id": "f944cae9",
   "metadata": {},
   "outputs": [],
   "source": [
    "d = joblib.load('data/embedded/ogbg-molhiv/mat_masking_200k.joblib')"
   ]
  },
  {
   "cell_type": "markdown",
   "id": "bb3236e1",
   "metadata": {},
   "source": [
    "# GEM"
   ]
  },
  {
   "cell_type": "code",
   "execution_count": 15,
   "id": "bc0ef5c7",
   "metadata": {},
   "outputs": [],
   "source": [
    "from src.common.types import EmbeddedDataset, Dataset\n",
    "\n",
    "d = EmbeddedDataset.deserialize_legacy('data/embedded/ogbg-molhiv/GEM.json')"
   ]
  },
  {
   "cell_type": "code",
   "execution_count": 9,
   "id": "6407bada",
   "metadata": {},
   "outputs": [
    {
     "data": {
      "text/plain": [
       "(41084, 32)"
      ]
     },
     "execution_count": 9,
     "metadata": {},
     "output_type": "execute_result"
    }
   ],
   "source": [
    "d.X.shape"
   ]
  },
  {
   "cell_type": "code",
   "execution_count": 11,
   "id": "d5c75cad",
   "metadata": {},
   "outputs": [
    {
     "data": {
      "text/plain": [
       "41127"
      ]
     },
     "execution_count": 11,
     "metadata": {},
     "output_type": "execute_result"
    }
   ],
   "source": [
    "sum([x.shape[0] for x in d.splits.values()])"
   ]
  },
  {
   "cell_type": "code",
   "execution_count": 16,
   "id": "2399e7c5",
   "metadata": {},
   "outputs": [],
   "source": [
    "d2 = Dataset.deserialize_legacy('data/prepared/ogbg-molhiv.json')"
   ]
  },
  {
   "cell_type": "code",
   "execution_count": 17,
   "id": "19f0ef2d",
   "metadata": {},
   "outputs": [
    {
     "data": {
      "text/plain": [
       "{'train': tensor([    3,     4,     5,  ..., 41124, 41125, 41126]),\n",
       " 'valid': tensor([10127, 10129, 10132,  ..., 22785, 22786, 22788]),\n",
       " 'test': tensor([    0,     1,     2,  ..., 10122, 10124, 10125])}"
      ]
     },
     "execution_count": 17,
     "metadata": {},
     "output_type": "execute_result"
    }
   ],
   "source": [
    "d2.splits"
   ]
  },
  {
   "cell_type": "code",
   "execution_count": 18,
   "id": "c52a66b1",
   "metadata": {},
   "outputs": [
    {
     "data": {
      "text/plain": [
       "'data/prepared/ogbg-molhiv_broken.json'"
      ]
     },
     "execution_count": 18,
     "metadata": {},
     "output_type": "execute_result"
    }
   ],
   "source": [
    "shutil.move('data/prepared/ogbg-molhiv.json', 'data/prepared/ogbg-molhiv_broken.json')"
   ]
  },
  {
   "cell_type": "code",
   "execution_count": 21,
   "id": "3f56857d",
   "metadata": {},
   "outputs": [],
   "source": [
    "d2.splits = {k: v.tolist() for k, v in d2.splits.items()}"
   ]
  },
  {
   "cell_type": "code",
   "execution_count": 22,
   "id": "af242ada",
   "metadata": {},
   "outputs": [],
   "source": [
    "d2.serialize_legacy('data/prepared/ogbg-molhiv.json')"
   ]
  },
  {
   "cell_type": "code",
   "execution_count": null,
   "id": "9841534e",
   "metadata": {},
   "outputs": [],
   "source": []
  }
 ],
 "metadata": {
  "kernelspec": {
   "display_name": "molecular-embedding-review-VV09FZh9-py3.11",
   "language": "python",
   "name": "python3"
  },
  "language_info": {
   "codemirror_mode": {
    "name": "ipython",
    "version": 3
   },
   "file_extension": ".py",
   "mimetype": "text/x-python",
   "name": "python",
   "nbconvert_exporter": "python",
   "pygments_lexer": "ipython3",
   "version": "3.11.11"
  }
 },
 "nbformat": 4,
 "nbformat_minor": 5
}
